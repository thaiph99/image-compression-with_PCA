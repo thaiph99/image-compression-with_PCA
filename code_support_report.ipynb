{
 "cells": [
  {
   "cell_type": "code",
   "execution_count": 1,
   "metadata": {},
   "outputs": [],
   "source": [
    "import numpy as np\n",
    "import pandas as pd\n",
    "import matplotlib.pyplot as plt \n",
    "import seaborn as sns"
   ]
  },
  {
   "cell_type": "code",
   "execution_count": 2,
   "metadata": {},
   "outputs": [],
   "source": [
    "img_format = ['jpeg', 'jpg', 'png']\n",
    "npdf = np.array([[49.6, 16.4, 1.5],[2.3, 6.2, 1.2]]).T"
   ]
  },
  {
   "cell_type": "code",
   "execution_count": 3,
   "metadata": {},
   "outputs": [],
   "source": [
    "# df = pd.DataFrame(npdf, columns=['origin_size', 'compress_size'])\n",
    "# df['image_format'] = img_format\n",
    "# df['sum'] = df['compress_size']+df['origin_size']\n",
    "# df"
   ]
  },
  {
   "cell_type": "code",
   "execution_count": 4,
   "metadata": {},
   "outputs": [],
   "source": [
    "# ax = sns.barplot(data=df, x='image_format', y = 'sum',hue='', palette=['red', 'blue', 'yellow'], saturation=0.6)"
   ]
  },
  {
   "cell_type": "code",
   "execution_count": 8,
   "metadata": {},
   "outputs": [
    {
     "data": {
      "image/png": "[encoded data removed]",
      "text/plain": "<Figure size 720x432 with 1 Axes>"
     },
     "metadata": {
      "needs_background": "light"
     },
     "output_type": "display_data"
    }
   ],
   "source": [
    "data = [49.6, 2.3, 16.4, 6.2, 1.5, 1.0]\n",
    "kind = ['origin_size', 'compressed_size','origin_size', 'compressed_size','origin_size', 'compressed_size']\n",
    "format = ['jpeg', 'jpeg', 'jpg', 'jpg', 'png', 'png']\n",
    "df1 = pd.DataFrame(zip(data, kind, format), columns=['data(Mb)', 'kind', 'format'])\n",
    "plt.figure(figsize=(10, 6))\n",
    "sns.barplot(x=\"format\", hue=\"kind\", y=\"data(Mb)\", data=df1, palette=['blue', 'yellow'])\n",
    "plt.savefig('barplot.jpg')\n",
    "plt.show()\n"
   ]
  },
  {
   "cell_type": "code",
   "execution_count": 6,
   "metadata": {},
   "outputs": [
    {
     "data": {
      "image/png": "[encoded data removed]",
      "text/plain": "<Figure size 720x432 with 1 Axes>"
     },
     "metadata": {
      "needs_background": "light"
     },
     "output_type": "display_data"
    },
    {
     "data": {
      "text/html": "<div>\n<style scoped>\n    .dataframe tbody tr th:only-of-type {\n        vertical-align: middle;\n    }\n\n    .dataframe tbody tr th {\n        vertical-align: top;\n    }\n\n    .dataframe thead th {\n        text-align: right;\n    }\n</style>\n<table border=\"1\" class=\"dataframe\">\n  <thead>\n    <tr style=\"text-align: right;\">\n      <th></th>\n      <th>time</th>\n      <th>kind</th>\n      <th>data</th>\n    </tr>\n  </thead>\n  <tbody>\n    <tr>\n      <th>0</th>\n      <td>2011-01-04</td>\n      <td>y</td>\n      <td>4</td>\n    </tr>\n    <tr>\n      <th>1</th>\n      <td>2011-01-05</td>\n      <td>y</td>\n      <td>9</td>\n    </tr>\n    <tr>\n      <th>2</th>\n      <td>2011-01-06</td>\n      <td>y</td>\n      <td>2</td>\n    </tr>\n    <tr>\n      <th>3</th>\n      <td>2011-01-04</td>\n      <td>z</td>\n      <td>1</td>\n    </tr>\n    <tr>\n      <th>4</th>\n      <td>2011-01-05</td>\n      <td>z</td>\n      <td>2</td>\n    </tr>\n    <tr>\n      <th>5</th>\n      <td>2011-01-06</td>\n      <td>z</td>\n      <td>3</td>\n    </tr>\n    <tr>\n      <th>6</th>\n      <td>2011-01-04</td>\n      <td>k</td>\n      <td>11</td>\n    </tr>\n    <tr>\n      <th>7</th>\n      <td>2011-01-05</td>\n      <td>k</td>\n      <td>12</td>\n    </tr>\n    <tr>\n      <th>8</th>\n      <td>2011-01-06</td>\n      <td>k</td>\n      <td>13</td>\n    </tr>\n  </tbody>\n</table>\n</div>",
      "text/plain": "        time kind  data\n0 2011-01-04    y     4\n1 2011-01-05    y     9\n2 2011-01-06    y     2\n3 2011-01-04    z     1\n4 2011-01-05    z     2\n5 2011-01-06    z     3\n6 2011-01-04    k    11\n7 2011-01-05    k    12\n8 2011-01-06    k    13"
     },
     "execution_count": 6,
     "metadata": {},
     "output_type": "execute_result"
    }
   ],
   "source": [
    "import datetime\n",
    "x = [\n",
    "    datetime.datetime(2011, 1, 4, 0, 0),\n",
    "    datetime.datetime(2011, 1, 5, 0, 0),\n",
    "    datetime.datetime(2011, 1, 6, 0, 0)\n",
    "]\n",
    "y = [4, 9, 2]\n",
    "z = [1, 2, 3]\n",
    "k = [11, 12, 13]\n",
    "df = pd.DataFrame(zip(x*3, [\"y\"]*3+[\"z\"]*3+[\"k\"]*3, y+z+k), columns=[\"time\", \"kind\", \"data\"])\n",
    "plt.figure(figsize=(10, 6))\n",
    "sns.barplot(x=\"time\", hue=\"kind\", y=\"data\", data=df, palette=['red', 'blue', 'yellow'])\n",
    "plt.show()\n",
    "df"
   ]
  }
 ],
 "metadata": {
  "kernelspec": {
   "display_name": "Python 3.8.5 64-bit",
   "metadata": {
    "interpreter": {
     "hash": "31f2aee4e71d21fbe5cf8b01ff0e069b9275f58929596ceb00d14d90e3e16cd6"
    }
   },
   "name": "python3"
  },
  "language_info": {
   "codemirror_mode": {
    "name": "ipython",
    "version": 3
   },
   "file_extension": ".py",
   "mimetype": "text/x-python",
   "name": "python",
   "nbconvert_exporter": "python",
   "pygments_lexer": "ipython3",
   "version": "3.8.5"
  },
  "orig_nbformat": 2
 },
 "nbformat": 4,
 "nbformat_minor": 2
}